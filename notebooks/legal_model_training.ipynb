{
 "cells": [
  {
   "cell_type": "markdown",
   "metadata": {},
   "source": [
    "# Legal Model Fine-tuning with QLoRA\n",
    "\n",
    "This notebook demonstrates the fine-tuning process."
   ]
  },
  {
   "cell_type": "code",
   "execution_count": null,
   "metadata": {},
   "outputs": [],
   "source": [
    "import sys\n",
    "sys.path.append('../src')\n",
    "\n",
    "from models.fine_tuner import LegalModelFineTuner\n",
    "\n",
    "# Initialize fine-tuner\n",
    "tuner = LegalModelFineTuner()\n",
    "print(\"Legal model fine-tuner initialized!\")"
   ]
  }
 ],
 "metadata": {
  "kernelspec": {
   "display_name": "Python 3",
   "language": "python",
   "name": "python3"
  }
 },
 "nbformat": 4,
 "nbformat_minor": 4
}
